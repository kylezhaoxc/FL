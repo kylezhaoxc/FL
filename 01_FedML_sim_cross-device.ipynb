{
 "cells": [
  {
   "cell_type": "markdown",
   "metadata": {},
   "source": [
    "import 需要的包"
   ]
  },
  {
   "cell_type": "code",
   "execution_count": 1,
   "metadata": {},
   "outputs": [],
   "source": [
    "import pandas as pd\n",
    "import numpy as np\n",
    "import os\n",
    "import matplotlib.pyplot as plt\n",
    "import seaborn as sns\n",
    "from imblearn.over_sampling import RandomOverSampler\n",
    "import random\n",
    "from collections import Counter as count\n",
    "from collections import Counter\n",
    "\n",
    "from sklearn.linear_model import LogisticRegression\n",
    "from sklearn.calibration import CalibratedClassifierCV\n",
    "from sklearn.ensemble import RandomForestClassifier\n",
    "from sklearn.neighbors import KNeighborsClassifier\n",
    "from sklearn.linear_model import Perceptron\n",
    "from sklearn.linear_model import SGDClassifier\n",
    "from sklearn.metrics import accuracy_score, f1_score, auc, roc_curve, roc_auc_score\n"
   ]
  },
  {
   "cell_type": "markdown",
   "metadata": {},
   "source": [
    "# EDA 探索性数据分析"
   ]
  },
  {
   "cell_type": "code",
   "execution_count": 2,
   "metadata": {},
   "outputs": [],
   "source": [
    "train = pd.read_csv('data\\\\ads_train.csv')\n",
    "test = pd.read_csv('data\\\\ads_test.csv')\n",
    "pd.set_option('mode.chained_assignment', None)"
   ]
  },
  {
   "cell_type": "code",
   "execution_count": 3,
   "metadata": {},
   "outputs": [
    {
     "name": "stdout",
     "output_type": "stream",
     "text": [
      "<class 'pandas.core.frame.DataFrame'>\n",
      "RangeIndex: 38209 entries, 0 to 38208\n",
      "Data columns (total 15 columns):\n",
      " #   Column               Non-Null Count  Dtype  \n",
      "---  ------               --------------  -----  \n",
      " 0   Unnamed: 0           38209 non-null  int64  \n",
      " 1   isbuyer              38209 non-null  int64  \n",
      " 2   buy_freq             1620 non-null   float64\n",
      " 3   visit_freq           38209 non-null  int64  \n",
      " 4   buy_interval         38209 non-null  float64\n",
      " 5   sv_interval          38209 non-null  float64\n",
      " 6   expected_time_buy    38209 non-null  float64\n",
      " 7   expected_time_visit  38209 non-null  float64\n",
      " 8   last_buy             38209 non-null  int64  \n",
      " 9   last_visit           38209 non-null  int64  \n",
      " 10  multiple_buy         38209 non-null  int64  \n",
      " 11  multiple_visit       38209 non-null  int64  \n",
      " 12  uniq_urls            38209 non-null  int64  \n",
      " 13  num_checkins         38209 non-null  int64  \n",
      " 14  y_buy                38209 non-null  int64  \n",
      "dtypes: float64(5), int64(10)\n",
      "memory usage: 4.4 MB\n"
     ]
    },
    {
     "data": {
      "text/html": [
       "<div>\n",
       "<style scoped>\n",
       "    .dataframe tbody tr th:only-of-type {\n",
       "        vertical-align: middle;\n",
       "    }\n",
       "\n",
       "    .dataframe tbody tr th {\n",
       "        vertical-align: top;\n",
       "    }\n",
       "\n",
       "    .dataframe thead th {\n",
       "        text-align: right;\n",
       "    }\n",
       "</style>\n",
       "<table border=\"1\" class=\"dataframe\">\n",
       "  <thead>\n",
       "    <tr style=\"text-align: right;\">\n",
       "      <th></th>\n",
       "      <th>Unnamed: 0</th>\n",
       "      <th>isbuyer</th>\n",
       "      <th>buy_freq</th>\n",
       "      <th>visit_freq</th>\n",
       "      <th>buy_interval</th>\n",
       "      <th>sv_interval</th>\n",
       "      <th>expected_time_buy</th>\n",
       "      <th>expected_time_visit</th>\n",
       "      <th>last_buy</th>\n",
       "      <th>last_visit</th>\n",
       "      <th>multiple_buy</th>\n",
       "      <th>multiple_visit</th>\n",
       "      <th>uniq_urls</th>\n",
       "      <th>num_checkins</th>\n",
       "      <th>y_buy</th>\n",
       "    </tr>\n",
       "  </thead>\n",
       "  <tbody>\n",
       "    <tr>\n",
       "      <th>count</th>\n",
       "      <td>38209.000000</td>\n",
       "      <td>38209.000000</td>\n",
       "      <td>1620.000000</td>\n",
       "      <td>38209.000000</td>\n",
       "      <td>38209.000000</td>\n",
       "      <td>38209.000000</td>\n",
       "      <td>38209.000000</td>\n",
       "      <td>38209.000000</td>\n",
       "      <td>38209.000000</td>\n",
       "      <td>38209.000000</td>\n",
       "      <td>38209.000000</td>\n",
       "      <td>38209.000000</td>\n",
       "      <td>38209.000000</td>\n",
       "      <td>38209.000000</td>\n",
       "      <td>38209.000000</td>\n",
       "    </tr>\n",
       "    <tr>\n",
       "      <th>mean</th>\n",
       "      <td>19105.000000</td>\n",
       "      <td>0.042398</td>\n",
       "      <td>1.239506</td>\n",
       "      <td>1.868199</td>\n",
       "      <td>0.197411</td>\n",
       "      <td>5.862179</td>\n",
       "      <td>-0.174376</td>\n",
       "      <td>-10.136685</td>\n",
       "      <td>64.657384</td>\n",
       "      <td>64.657384</td>\n",
       "      <td>0.005967</td>\n",
       "      <td>0.277526</td>\n",
       "      <td>86.594624</td>\n",
       "      <td>723.834515</td>\n",
       "      <td>0.004502</td>\n",
       "    </tr>\n",
       "    <tr>\n",
       "      <th>std</th>\n",
       "      <td>11030.132554</td>\n",
       "      <td>0.201499</td>\n",
       "      <td>0.840259</td>\n",
       "      <td>2.996675</td>\n",
       "      <td>3.855662</td>\n",
       "      <td>17.726455</td>\n",
       "      <td>4.784059</td>\n",
       "      <td>31.796845</td>\n",
       "      <td>53.453475</td>\n",
       "      <td>53.453475</td>\n",
       "      <td>0.077018</td>\n",
       "      <td>0.447784</td>\n",
       "      <td>61.941089</td>\n",
       "      <td>1286.380572</td>\n",
       "      <td>0.066943</td>\n",
       "    </tr>\n",
       "    <tr>\n",
       "      <th>min</th>\n",
       "      <td>1.000000</td>\n",
       "      <td>0.000000</td>\n",
       "      <td>1.000000</td>\n",
       "      <td>0.000000</td>\n",
       "      <td>0.000000</td>\n",
       "      <td>0.000000</td>\n",
       "      <td>-181.923800</td>\n",
       "      <td>-187.615600</td>\n",
       "      <td>0.000000</td>\n",
       "      <td>0.000000</td>\n",
       "      <td>0.000000</td>\n",
       "      <td>0.000000</td>\n",
       "      <td>-1.000000</td>\n",
       "      <td>1.000000</td>\n",
       "      <td>0.000000</td>\n",
       "    </tr>\n",
       "    <tr>\n",
       "      <th>25%</th>\n",
       "      <td>9553.000000</td>\n",
       "      <td>0.000000</td>\n",
       "      <td>1.000000</td>\n",
       "      <td>1.000000</td>\n",
       "      <td>0.000000</td>\n",
       "      <td>0.000000</td>\n",
       "      <td>0.000000</td>\n",
       "      <td>0.000000</td>\n",
       "      <td>18.000000</td>\n",
       "      <td>18.000000</td>\n",
       "      <td>0.000000</td>\n",
       "      <td>0.000000</td>\n",
       "      <td>30.000000</td>\n",
       "      <td>127.000000</td>\n",
       "      <td>0.000000</td>\n",
       "    </tr>\n",
       "    <tr>\n",
       "      <th>50%</th>\n",
       "      <td>19105.000000</td>\n",
       "      <td>0.000000</td>\n",
       "      <td>1.000000</td>\n",
       "      <td>1.000000</td>\n",
       "      <td>0.000000</td>\n",
       "      <td>0.000000</td>\n",
       "      <td>0.000000</td>\n",
       "      <td>0.000000</td>\n",
       "      <td>50.000000</td>\n",
       "      <td>50.000000</td>\n",
       "      <td>0.000000</td>\n",
       "      <td>0.000000</td>\n",
       "      <td>75.000000</td>\n",
       "      <td>319.000000</td>\n",
       "      <td>0.000000</td>\n",
       "    </tr>\n",
       "    <tr>\n",
       "      <th>75%</th>\n",
       "      <td>28657.000000</td>\n",
       "      <td>0.000000</td>\n",
       "      <td>1.000000</td>\n",
       "      <td>2.000000</td>\n",
       "      <td>0.000000</td>\n",
       "      <td>0.125000</td>\n",
       "      <td>0.000000</td>\n",
       "      <td>0.000000</td>\n",
       "      <td>105.000000</td>\n",
       "      <td>105.000000</td>\n",
       "      <td>0.000000</td>\n",
       "      <td>1.000000</td>\n",
       "      <td>155.000000</td>\n",
       "      <td>803.000000</td>\n",
       "      <td>0.000000</td>\n",
       "    </tr>\n",
       "    <tr>\n",
       "      <th>max</th>\n",
       "      <td>38209.000000</td>\n",
       "      <td>1.000000</td>\n",
       "      <td>15.000000</td>\n",
       "      <td>84.000000</td>\n",
       "      <td>174.625000</td>\n",
       "      <td>184.916700</td>\n",
       "      <td>84.285710</td>\n",
       "      <td>91.401920</td>\n",
       "      <td>188.000000</td>\n",
       "      <td>188.000000</td>\n",
       "      <td>1.000000</td>\n",
       "      <td>1.000000</td>\n",
       "      <td>206.000000</td>\n",
       "      <td>37091.000000</td>\n",
       "      <td>1.000000</td>\n",
       "    </tr>\n",
       "  </tbody>\n",
       "</table>\n",
       "</div>"
      ],
      "text/plain": [
       "         Unnamed: 0       isbuyer     buy_freq    visit_freq  buy_interval  \\\n",
       "count  38209.000000  38209.000000  1620.000000  38209.000000  38209.000000   \n",
       "mean   19105.000000      0.042398     1.239506      1.868199      0.197411   \n",
       "std    11030.132554      0.201499     0.840259      2.996675      3.855662   \n",
       "min        1.000000      0.000000     1.000000      0.000000      0.000000   \n",
       "25%     9553.000000      0.000000     1.000000      1.000000      0.000000   \n",
       "50%    19105.000000      0.000000     1.000000      1.000000      0.000000   \n",
       "75%    28657.000000      0.000000     1.000000      2.000000      0.000000   \n",
       "max    38209.000000      1.000000    15.000000     84.000000    174.625000   \n",
       "\n",
       "        sv_interval  expected_time_buy  expected_time_visit      last_buy  \\\n",
       "count  38209.000000       38209.000000         38209.000000  38209.000000   \n",
       "mean       5.862179          -0.174376           -10.136685     64.657384   \n",
       "std       17.726455           4.784059            31.796845     53.453475   \n",
       "min        0.000000        -181.923800          -187.615600      0.000000   \n",
       "25%        0.000000           0.000000             0.000000     18.000000   \n",
       "50%        0.000000           0.000000             0.000000     50.000000   \n",
       "75%        0.125000           0.000000             0.000000    105.000000   \n",
       "max      184.916700          84.285710            91.401920    188.000000   \n",
       "\n",
       "         last_visit  multiple_buy  multiple_visit     uniq_urls  num_checkins  \\\n",
       "count  38209.000000  38209.000000    38209.000000  38209.000000  38209.000000   \n",
       "mean      64.657384      0.005967        0.277526     86.594624    723.834515   \n",
       "std       53.453475      0.077018        0.447784     61.941089   1286.380572   \n",
       "min        0.000000      0.000000        0.000000     -1.000000      1.000000   \n",
       "25%       18.000000      0.000000        0.000000     30.000000    127.000000   \n",
       "50%       50.000000      0.000000        0.000000     75.000000    319.000000   \n",
       "75%      105.000000      0.000000        1.000000    155.000000    803.000000   \n",
       "max      188.000000      1.000000        1.000000    206.000000  37091.000000   \n",
       "\n",
       "              y_buy  \n",
       "count  38209.000000  \n",
       "mean       0.004502  \n",
       "std        0.066943  \n",
       "min        0.000000  \n",
       "25%        0.000000  \n",
       "50%        0.000000  \n",
       "75%        0.000000  \n",
       "max        1.000000  "
      ]
     },
     "execution_count": 3,
     "metadata": {},
     "output_type": "execute_result"
    }
   ],
   "source": [
    "test['y_buy']=0\n",
    "train.columns\n",
    "train.info()\n",
    "train.describe()"
   ]
  },
  {
   "cell_type": "code",
   "execution_count": 2,
   "metadata": {},
   "outputs": [
    {
     "ename": "NameError",
     "evalue": "name 'train' is not defined",
     "output_type": "error",
     "traceback": [
      "\u001b[1;31m---------------------------------------------------------------------------\u001b[0m",
      "\u001b[1;31mNameError\u001b[0m                                 Traceback (most recent call last)",
      "\u001b[1;32m<ipython-input-2-3b77fa18a747>\u001b[0m in \u001b[0;36m<module>\u001b[1;34m\u001b[0m\n\u001b[1;32m----> 1\u001b[1;33m \u001b[0mtrain\u001b[0m\u001b[1;33m.\u001b[0m\u001b[0mhead\u001b[0m\u001b[1;33m(\u001b[0m\u001b[1;33m)\u001b[0m\u001b[1;33m\u001b[0m\u001b[1;33m\u001b[0m\u001b[0m\n\u001b[0m",
      "\u001b[1;31mNameError\u001b[0m: name 'train' is not defined"
     ]
    }
   ],
   "source": [
    "train.head()"
   ]
  },
  {
   "cell_type": "markdown",
   "metadata": {},
   "source": [
    "# EDA完成，数据ETL\n",
    "类别字段:\n",
    "isbuyer,multiple_buy,multiple_visit,y_buy\n",
    "\n",
    "id字段:\n",
    "unique_urls\n",
    "\n",
    "数值字段:\n",
    "buy_freq,visit_freq、buy_interval、sv_interval、expected_time_buy、expected_time_visit、last_buy、last_visit、num_checkins\n",
    "\n",
    "* y_buy 的平均值 0.004,说明数据集中类别失衡相当严重，只有很少一小部分样本是正样本. \n"
   ]
  },
  {
   "cell_type": "code",
   "execution_count": 4,
   "metadata": {},
   "outputs": [
    {
     "data": {
      "text/html": [
       "<div>\n",
       "<style scoped>\n",
       "    .dataframe tbody tr th:only-of-type {\n",
       "        vertical-align: middle;\n",
       "    }\n",
       "\n",
       "    .dataframe tbody tr th {\n",
       "        vertical-align: top;\n",
       "    }\n",
       "\n",
       "    .dataframe thead th {\n",
       "        text-align: right;\n",
       "    }\n",
       "</style>\n",
       "<table border=\"1\" class=\"dataframe\">\n",
       "  <thead>\n",
       "    <tr style=\"text-align: right;\">\n",
       "      <th></th>\n",
       "      <th>buy_freq</th>\n",
       "      <th>visit_freq</th>\n",
       "      <th>buy_interval</th>\n",
       "      <th>sv_interval</th>\n",
       "      <th>expected_time_buy</th>\n",
       "      <th>expected_time_visit</th>\n",
       "      <th>last_buy</th>\n",
       "      <th>last_visit</th>\n",
       "      <th>num_checkins</th>\n",
       "      <th>isbuyer</th>\n",
       "      <th>multiple_buy</th>\n",
       "      <th>multiple_visit</th>\n",
       "    </tr>\n",
       "  </thead>\n",
       "  <tbody>\n",
       "    <tr>\n",
       "      <th>0</th>\n",
       "      <td>0.0</td>\n",
       "      <td>1</td>\n",
       "      <td>0.0</td>\n",
       "      <td>0.00000</td>\n",
       "      <td>0.0</td>\n",
       "      <td>0.0000</td>\n",
       "      <td>72</td>\n",
       "      <td>72</td>\n",
       "      <td>1100</td>\n",
       "      <td>0</td>\n",
       "      <td>0</td>\n",
       "      <td>0</td>\n",
       "    </tr>\n",
       "    <tr>\n",
       "      <th>1</th>\n",
       "      <td>0.0</td>\n",
       "      <td>1</td>\n",
       "      <td>0.0</td>\n",
       "      <td>0.00000</td>\n",
       "      <td>0.0</td>\n",
       "      <td>0.0000</td>\n",
       "      <td>5</td>\n",
       "      <td>5</td>\n",
       "      <td>12</td>\n",
       "      <td>0</td>\n",
       "      <td>0</td>\n",
       "      <td>0</td>\n",
       "    </tr>\n",
       "    <tr>\n",
       "      <th>2</th>\n",
       "      <td>0.0</td>\n",
       "      <td>1</td>\n",
       "      <td>0.0</td>\n",
       "      <td>0.00000</td>\n",
       "      <td>0.0</td>\n",
       "      <td>0.0000</td>\n",
       "      <td>42</td>\n",
       "      <td>42</td>\n",
       "      <td>110</td>\n",
       "      <td>0</td>\n",
       "      <td>0</td>\n",
       "      <td>0</td>\n",
       "    </tr>\n",
       "    <tr>\n",
       "      <th>3</th>\n",
       "      <td>0.0</td>\n",
       "      <td>2</td>\n",
       "      <td>0.0</td>\n",
       "      <td>29.79167</td>\n",
       "      <td>0.0</td>\n",
       "      <td>-106.1883</td>\n",
       "      <td>121</td>\n",
       "      <td>121</td>\n",
       "      <td>401</td>\n",
       "      <td>0</td>\n",
       "      <td>0</td>\n",
       "      <td>1</td>\n",
       "    </tr>\n",
       "    <tr>\n",
       "      <th>4</th>\n",
       "      <td>0.0</td>\n",
       "      <td>2</td>\n",
       "      <td>0.0</td>\n",
       "      <td>21.33333</td>\n",
       "      <td>0.0</td>\n",
       "      <td>-108.3230</td>\n",
       "      <td>118</td>\n",
       "      <td>118</td>\n",
       "      <td>891</td>\n",
       "      <td>0</td>\n",
       "      <td>0</td>\n",
       "      <td>1</td>\n",
       "    </tr>\n",
       "  </tbody>\n",
       "</table>\n",
       "</div>"
      ],
      "text/plain": [
       "   buy_freq  visit_freq  buy_interval  sv_interval  expected_time_buy  \\\n",
       "0       0.0           1           0.0      0.00000                0.0   \n",
       "1       0.0           1           0.0      0.00000                0.0   \n",
       "2       0.0           1           0.0      0.00000                0.0   \n",
       "3       0.0           2           0.0     29.79167                0.0   \n",
       "4       0.0           2           0.0     21.33333                0.0   \n",
       "\n",
       "   expected_time_visit  last_buy  last_visit  num_checkins  isbuyer  \\\n",
       "0               0.0000        72          72          1100        0   \n",
       "1               0.0000         5           5            12        0   \n",
       "2               0.0000        42          42           110        0   \n",
       "3            -106.1883       121         121           401        0   \n",
       "4            -108.3230       118         118           891        0   \n",
       "\n",
       "   multiple_buy  multiple_visit  \n",
       "0             0               0  \n",
       "1             0               0  \n",
       "2             0               0  \n",
       "3             0               1  \n",
       "4             0               1  "
      ]
     },
     "execution_count": 4,
     "metadata": {},
     "output_type": "execute_result"
    }
   ],
   "source": [
    "# 删除id字段，对类别字段转换为onehot编码\n",
    "train,test = train.drop('uniq_urls',axis=1),test.drop('uniq_urls',axis=1)\n",
    "train,test = train.drop('Unnamed: 0',axis=1),test.drop('Unnamed: 0',axis=1)\n",
    "train,test = train.fillna(0),test.fillna(0)\n",
    "\n",
    "categorical_features = ['isbuyer','multiple_buy','multiple_visit']\n",
    "train_cat,test_cat = pd.get_dummies(train[categorical_features]),pd.get_dummies(test[categorical_features])\n",
    "train,test = train.drop(categorical_features, axis=1),test.drop(categorical_features, axis=1)\n",
    "train,test = pd.concat([train, train_cat], axis=1),pd.concat([test, test_cat], axis=1)\n",
    "\n",
    "# 分离训练、测试集\n",
    "train_X,test_X = train.drop('y_buy', axis=1),test.drop('y_buy', axis=1)\n",
    "train_Y,test_Y = train['y_buy'],test['y_buy']\n",
    "\n",
    "train_X.head()\n",
    "test_X.head()\n",
    "\n"
   ]
  },
  {
   "cell_type": "code",
   "execution_count": 5,
   "metadata": {},
   "outputs": [
    {
     "data": {
      "text/plain": [
       "count    76074.000000\n",
       "mean         0.500000\n",
       "std          0.500003\n",
       "min          0.000000\n",
       "25%          0.000000\n",
       "50%          0.500000\n",
       "75%          1.000000\n",
       "max          1.000000\n",
       "Name: y_buy, dtype: float64"
      ]
     },
     "execution_count": 5,
     "metadata": {},
     "output_type": "execute_result"
    }
   ],
   "source": [
    "X_resample, Y_resample = RandomOverSampler(random_state=0).fit_resample(train_X, train_Y)\n",
    "\n",
    "Y_resample.describe()"
   ]
  },
  {
   "cell_type": "code",
   "execution_count": 6,
   "metadata": {},
   "outputs": [],
   "source": [
    "from sklearn.model_selection import train_test_split\n",
    " \n",
    "X_train, X_val, Y_train, Y_val = train_test_split(X_resample,Y_resample, test_size=0.2)"
   ]
  },
  {
   "cell_type": "code",
   "execution_count": 7,
   "metadata": {},
   "outputs": [],
   "source": [
    "# 中位数填充\n",
    "from sklearn.impute import SimpleImputer\n",
    "median_imputer=SimpleImputer(strategy='median')\n",
    "median_imputer.fit(X_train)\n",
    "median_imputer.fit(X_val)\n",
    "median_imputer.fit(test_X)\n",
    "\n",
    "# 按照范围进行比例归一化\n",
    "from sklearn.preprocessing import StandardScaler\n",
    "scaler = StandardScaler()\n",
    "scale_features = ['buy_freq','visit_freq','buy_interval','sv_interval','expected_time_buy','expected_time_visit','last_buy','last_visit','num_checkins']\n",
    "X_train[scale_features] = scaler.fit_transform(X_train[scale_features])\n",
    "X_val[scale_features] = scaler.fit_transform(X_val[scale_features])\n",
    "test_X[scale_features] = scaler.fit_transform(test_X[scale_features])\n"
   ]
  },
  {
   "cell_type": "code",
   "execution_count": 8,
   "metadata": {},
   "outputs": [
    {
     "data": {
      "text/html": [
       "<div>\n",
       "<style scoped>\n",
       "    .dataframe tbody tr th:only-of-type {\n",
       "        vertical-align: middle;\n",
       "    }\n",
       "\n",
       "    .dataframe tbody tr th {\n",
       "        vertical-align: top;\n",
       "    }\n",
       "\n",
       "    .dataframe thead th {\n",
       "        text-align: right;\n",
       "    }\n",
       "</style>\n",
       "<table border=\"1\" class=\"dataframe\">\n",
       "  <thead>\n",
       "    <tr style=\"text-align: right;\">\n",
       "      <th></th>\n",
       "      <th>buy_freq</th>\n",
       "      <th>visit_freq</th>\n",
       "      <th>buy_interval</th>\n",
       "      <th>sv_interval</th>\n",
       "      <th>expected_time_buy</th>\n",
       "      <th>expected_time_visit</th>\n",
       "      <th>last_buy</th>\n",
       "      <th>last_visit</th>\n",
       "      <th>num_checkins</th>\n",
       "      <th>isbuyer</th>\n",
       "      <th>multiple_buy</th>\n",
       "      <th>multiple_visit</th>\n",
       "    </tr>\n",
       "  </thead>\n",
       "  <tbody>\n",
       "    <tr>\n",
       "      <th>1760</th>\n",
       "      <td>-0.323795</td>\n",
       "      <td>-0.445922</td>\n",
       "      <td>-0.19542</td>\n",
       "      <td>-0.461778</td>\n",
       "      <td>0.146699</td>\n",
       "      <td>0.265223</td>\n",
       "      <td>0.642331</td>\n",
       "      <td>0.642331</td>\n",
       "      <td>-0.106442</td>\n",
       "      <td>0</td>\n",
       "      <td>0</td>\n",
       "      <td>0</td>\n",
       "    </tr>\n",
       "    <tr>\n",
       "      <th>5973</th>\n",
       "      <td>-0.323795</td>\n",
       "      <td>-0.445922</td>\n",
       "      <td>-0.19542</td>\n",
       "      <td>-0.461778</td>\n",
       "      <td>0.146699</td>\n",
       "      <td>0.265223</td>\n",
       "      <td>-0.756727</td>\n",
       "      <td>-0.756727</td>\n",
       "      <td>-0.214362</td>\n",
       "      <td>0</td>\n",
       "      <td>0</td>\n",
       "      <td>0</td>\n",
       "    </tr>\n",
       "    <tr>\n",
       "      <th>13745</th>\n",
       "      <td>-0.323795</td>\n",
       "      <td>-0.323271</td>\n",
       "      <td>-0.19542</td>\n",
       "      <td>1.046112</td>\n",
       "      <td>0.146699</td>\n",
       "      <td>0.652629</td>\n",
       "      <td>-0.835547</td>\n",
       "      <td>-0.835547</td>\n",
       "      <td>-0.382932</td>\n",
       "      <td>0</td>\n",
       "      <td>0</td>\n",
       "      <td>1</td>\n",
       "    </tr>\n",
       "    <tr>\n",
       "      <th>40352</th>\n",
       "      <td>-0.323795</td>\n",
       "      <td>0.657942</td>\n",
       "      <td>-0.19542</td>\n",
       "      <td>0.283713</td>\n",
       "      <td>0.146699</td>\n",
       "      <td>0.502102</td>\n",
       "      <td>-0.776432</td>\n",
       "      <td>-0.776432</td>\n",
       "      <td>-0.325850</td>\n",
       "      <td>0</td>\n",
       "      <td>0</td>\n",
       "      <td>1</td>\n",
       "    </tr>\n",
       "    <tr>\n",
       "      <th>58348</th>\n",
       "      <td>0.579108</td>\n",
       "      <td>-0.077967</td>\n",
       "      <td>-0.19542</td>\n",
       "      <td>2.395375</td>\n",
       "      <td>0.146699</td>\n",
       "      <td>1.337470</td>\n",
       "      <td>-0.815842</td>\n",
       "      <td>-0.815842</td>\n",
       "      <td>-0.470339</td>\n",
       "      <td>1</td>\n",
       "      <td>0</td>\n",
       "      <td>1</td>\n",
       "    </tr>\n",
       "  </tbody>\n",
       "</table>\n",
       "</div>"
      ],
      "text/plain": [
       "       buy_freq  visit_freq  buy_interval  sv_interval  expected_time_buy  \\\n",
       "1760  -0.323795   -0.445922      -0.19542    -0.461778           0.146699   \n",
       "5973  -0.323795   -0.445922      -0.19542    -0.461778           0.146699   \n",
       "13745 -0.323795   -0.323271      -0.19542     1.046112           0.146699   \n",
       "40352 -0.323795    0.657942      -0.19542     0.283713           0.146699   \n",
       "58348  0.579108   -0.077967      -0.19542     2.395375           0.146699   \n",
       "\n",
       "       expected_time_visit  last_buy  last_visit  num_checkins  isbuyer  \\\n",
       "1760              0.265223  0.642331    0.642331     -0.106442        0   \n",
       "5973              0.265223 -0.756727   -0.756727     -0.214362        0   \n",
       "13745             0.652629 -0.835547   -0.835547     -0.382932        0   \n",
       "40352             0.502102 -0.776432   -0.776432     -0.325850        0   \n",
       "58348             1.337470 -0.815842   -0.815842     -0.470339        1   \n",
       "\n",
       "       multiple_buy  multiple_visit  \n",
       "1760              0               0  \n",
       "5973              0               0  \n",
       "13745             0               1  \n",
       "40352             0               1  \n",
       "58348             0               1  "
      ]
     },
     "execution_count": 8,
     "metadata": {},
     "output_type": "execute_result"
    }
   ],
   "source": [
    "X_train.head()\n",
    "\n"
   ]
  },
  {
   "cell_type": "markdown",
   "metadata": {},
   "source": [
    "# ETL完成，实验可行性\n",
    "\n",
    "尝试在进行整理过的数据上，进行逻辑回归\n",
    "\n",
    "用库函数LR，看下效果"
   ]
  },
  {
   "cell_type": "code",
   "execution_count": 9,
   "metadata": {},
   "outputs": [
    {
     "data": {
      "text/plain": [
       "77.73"
      ]
     },
     "execution_count": 9,
     "metadata": {},
     "output_type": "execute_result"
    },
    {
     "data": {
      "image/png": "[encoded data removed]",
      "text/plain": [
       "<Figure size 1008x504 with 1 Axes>"
      ]
     },
     "metadata": {
      "needs_background": "light"
     },
     "output_type": "display_data"
    }
   ],
   "source": [
    "def plot_roc_curve(false_positive_rate, true_positive_rate, label=None):\n",
    "    plt.plot(false_positive_rate, true_positive_rate, linewidth=2, label=label)\n",
    "    plt.plot([0, 1], [0, 1], 'r', linewidth=4)\n",
    "    plt.axis([0, 1, 0, 1])\n",
    "    plt.xlabel('False Positive', fontsize=16)\n",
    "    plt.ylabel('True Positive', fontsize=16)\n",
    "\n",
    "logreg = LogisticRegression()\n",
    "logreg.fit(X_train, Y_train)\n",
    "Y_pred = logreg.predict(X_val)\n",
    "Y_scores = logreg.predict_proba(X_val)\n",
    "Y_scores = Y_scores[:,1]\n",
    "false_positive_rate, true_positive_rate, thresholds = roc_curve(Y_val,Y_scores)\n",
    "plt.figure(figsize=(14, 7))\n",
    "plot_roc_curve(false_positive_rate, true_positive_rate)\n",
    "acc_log = round(logreg.score(X_train, Y_train) * 100, 2)\n",
    "acc_log"
   ]
  },
  {
   "cell_type": "code",
   "execution_count": 10,
   "metadata": {},
   "outputs": [
    {
     "name": "stdout",
     "output_type": "stream",
     "text": [
      "(12, 60859)\n",
      "(1, 60859)\n"
     ]
    }
   ],
   "source": [
    "train_x = X_train.T\n",
    "samples = train_x.shape[1]\n",
    "train_y = Y_train.values.reshape((1,samples))\n",
    "print(train_x.shape)\n",
    "print(train_y.shape)"
   ]
  },
  {
   "cell_type": "code",
   "execution_count": 11,
   "metadata": {},
   "outputs": [],
   "source": [
    "# define hyperparameters\n",
    "learning_rate = 0.01\n",
    "num_iter = 5000"
   ]
  },
  {
   "cell_type": "markdown",
   "metadata": {},
   "source": [
    "# 手动计算普通LR模式"
   ]
  },
  {
   "cell_type": "code",
   "execution_count": 12,
   "metadata": {},
   "outputs": [
    {
     "name": "stdout",
     "output_type": "stream",
     "text": [
      "(1, 60859) (12, 60859) (12, 1)\n"
     ]
    },
    {
     "data": {
      "text/plain": [
       "[<matplotlib.lines.Line2D at 0x1f887c0df60>]"
      ]
     },
     "execution_count": 12,
     "metadata": {},
     "output_type": "execute_result"
    },
    {
     "data": {
      "image/png": "[encoded data removed]",
      "text/plain": [
       "<Figure size 432x288 with 1 Axes>"
      ]
     },
     "metadata": {
      "needs_background": "light"
     },
     "output_type": "display_data"
    }
   ],
   "source": [
    "w = np.zeros(shape=(train_x.shape[0],1))\n",
    "b = 0\n",
    "print(train_y.shape,train_x.shape,w.shape)\n",
    "\n",
    "def sigmoid(z):\n",
    "    return 1/(1+np.exp(-z))\n",
    "\n",
    "def FpBp(w, b, X, Y):\n",
    "    \"\"\"\n",
    "    传参:\n",
    "    w -- 权重 shape： (12,1)\n",
    "    b -- 偏置项,shape(1,1)\n",
    "    X -- 数据集，shape： (12,m),m为样本数\n",
    "    Y -- 真实标签，shape： (1,m)\n",
    "    \"\"\"\n",
    "    \n",
    "    #获取样本数m：\n",
    "    m = X.shape[1]\n",
    "    # 前向传播 ：\n",
    "    assert(w.T.shape[1]==X.shape[0])\n",
    "    yhat = sigmoid(np.dot(w.T,X))  \n",
    "    \n",
    "    assert(yhat.shape == Y.shape)\n",
    "    cross_entropy_loss = -(np.sum(Y*np.log(yhat)+(1-Y)*np.log(1-yhat)))/m                 \n",
    "    \n",
    "    # 反向传播：\n",
    "    dZ = yhat-Y\n",
    "    dw = (np.dot(X,dZ.T))/m\n",
    "    db = (np.sum(dZ))/m  \n",
    "    \n",
    "    #返回值：\n",
    "    return dw,db,cross_entropy_loss\n",
    "\n",
    "    \n",
    "loss = []\n",
    "\n",
    "\n",
    "for i in range(num_iter):\n",
    "    dw,db,cost = FpBp(w,b,train_x,train_y)\n",
    "    w = w - learning_rate*dw\n",
    "    b = b - learning_rate*db\n",
    "    loss.append(cost)\n",
    "\n",
    "plt.plot(loss)\n",
    "\n"
   ]
  },
  {
   "cell_type": "code",
   "execution_count": 13,
   "metadata": {},
   "outputs": [
    {
     "data": {
      "text/plain": [
       "0.8106473874465987"
      ]
     },
     "execution_count": 13,
     "metadata": {},
     "output_type": "execute_result"
    }
   ],
   "source": [
    "def Predict(w,b,X):\n",
    "    return sigmoid(np.dot(w.T,X))\n",
    "\n",
    "pred_probs = Predict(w,b,X_val.T)\n",
    "pred_labels = np.where(pred_probs>0.5,1,0)\n",
    "diff = Y_val.values-pred_labels[0]\n",
    "acc = 1-np.sum(np.abs(diff))/len(diff)\n",
    "acc\n"
   ]
  },
  {
   "cell_type": "markdown",
   "metadata": {},
   "source": [
    "测试集验证结果基本符合库函数的结果，实验视为成功"
   ]
  },
  {
   "cell_type": "markdown",
   "metadata": {},
   "source": [
    "# FL cross-device模式\n",
    "\n",
    "假设cross-device中心化模式，6万条数据分散于10个client（非IID分布）\n",
    "\n",
    "FL按轮进行，每轮随机选中5个client，训练完成后global模型更新，global参数作为下一轮的起始参数进行下发。\n",
    "\n"
   ]
  },
  {
   "attachments": {
    "9f45df5a-9671-40e4-9526-4d33f4295c5b.png": {
     "image/png": "[encoded data removed]"
    }
   },
   "cell_type": "markdown",
   "metadata": {},
   "source": [
    "![image.png](attachment:9f45df5a-9671-40e4-9526-4d33f4295c5b.png)"
   ]
  },
  {
   "attachments": {
    "1e21710b-4d98-4c14-9205-31bfa560582e.png": {
     "image/png": "[encoded data removed]"
    }
   },
   "cell_type": "markdown",
   "metadata": {},
   "source": [
    "![image.png](attachment:1e21710b-4d98-4c14-9205-31bfa560582e.png)"
   ]
  },
  {
   "cell_type": "code",
   "execution_count": 14,
   "metadata": {},
   "outputs": [
    {
     "data": {
      "text/plain": [
       "(38209, 12)"
      ]
     },
     "execution_count": 14,
     "metadata": {},
     "output_type": "execute_result"
    }
   ],
   "source": [
    "train_X.shape"
   ]
  },
  {
   "cell_type": "markdown",
   "metadata": {},
   "source": [
    "## 非IID切分数据"
   ]
  },
  {
   "cell_type": "markdown",
   "metadata": {},
   "source": [
    "针对x的任意一个维度进行排序，然后顺序从排序后的记录中依次取值。这样得出的数据分布，和整体的数据分布就是非iid的关系。\n",
    "\n",
    "ClientData模拟各个客户端持有的隐私数据。 "
   ]
  },
  {
   "cell_type": "code",
   "execution_count": 15,
   "metadata": {},
   "outputs": [
    {
     "data": {
      "text/plain": [
       "(12, 60859)"
      ]
     },
     "execution_count": 15,
     "metadata": {},
     "output_type": "execute_result"
    }
   ],
   "source": [
    "class Client:\n",
    "    def __init__(self,id,train_x,train_y):\n",
    "        self.client_id = id\n",
    "        self.train_X = np.array(train_x).T\n",
    "        self.train_Y = np.array(train_y).T\n",
    "        self.sampleCount = self.train_X.shape[1]\n",
    "        self.losses = []\n",
    "        print(\"Client initialized with {} rows of data\".format(self.sampleCount))\n",
    "\n",
    "    def RunOptimization(self,w,b,iteration,learning_rate,showDetails=False):\n",
    "        local_w = w\n",
    "        local_b = b\n",
    "        localDw = np.zeros(shape=w.shape)\n",
    "        localDb = 0\n",
    "        \n",
    "        for i in range(iteration):\n",
    "            m = self.train_X.shape[1]\n",
    "            # 前向传播 ：\n",
    "            assert(w.T.shape[1]==self.train_X.shape[0])\n",
    "            yhat = sigmoid(np.dot(w.T,self.train_X))  \n",
    "    \n",
    "            assert(yhat.shape == self.train_Y.shape)\n",
    "            cross_entropy_loss = -(np.sum(self.train_Y*np.log(yhat)+(1-self.train_Y)*np.log(1-yhat)))/m                 \n",
    "    \n",
    "            # 反向传播：\n",
    "            dZ = yhat-self.train_Y\n",
    "            dw = (np.dot(self.train_X,dZ.T))/m\n",
    "            db = (np.sum(dZ))/m  \n",
    "            local_w -= learning_rate*dw\n",
    "            local_b -= learning_rate*db\n",
    "            localDw += dw\n",
    "            localDb += db\n",
    "            self.losses.append(cross_entropy_loss)\n",
    "            if showDetails:\n",
    "                print(\"Client{},iter{} finished\".format(self.client_id,i))\n",
    "        if showDetails:\n",
    "            print(localDw,localDb)\n",
    "            \n",
    "        return localDw,localDb\n",
    "\n",
    "iid_y = pd.DataFrame(data=train_y.T,columns=[\"y_buy\"])\n",
    "iid_x = train_x.T\n",
    "iid_union = [(iid_x.values[i],iid_y.values[i]) for i in range(iid_x.shape[0])]\n",
    "\n",
    "iid_union.sort(key=lambda x:x[0][9])\n",
    "noniid_x = [x[0] for x in iid_union]\n",
    "noniid_y = [x[1] for x in iid_union]\n",
    "\n",
    "np.array(noniid_x).T.shape"
   ]
  },
  {
   "cell_type": "code",
   "execution_count": 16,
   "metadata": {},
   "outputs": [
    {
     "name": "stdout",
     "output_type": "stream",
     "text": [
      "Client initialized with 500 rows of data\n",
      "Client initialized with 6000 rows of data\n",
      "Client initialized with 6500 rows of data\n",
      "Client initialized with 7000 rows of data\n",
      "Client initialized with 6000 rows of data\n",
      "Client initialized with 9000 rows of data\n",
      "Client initialized with 7000 rows of data\n",
      "Client initialized with 6000 rows of data\n",
      "Client initialized with 6000 rows of data\n",
      "Client initialized with 6859 rows of data\n"
     ]
    }
   ],
   "source": [
    "clients = [\n",
    "    Client(1,noniid_x[:500],noniid_y[:500]),\n",
    "    Client(2,noniid_x[500:6500],noniid_y[500:6500]),\n",
    "    Client(3,noniid_x[6500:13000],noniid_y[6500:13000]),\n",
    "    Client(4,noniid_x[13000:20000],noniid_y[13000:20000]),\n",
    "    Client(5,noniid_x[20000:26000],noniid_y[20000:26000]),\n",
    "    Client(6,noniid_x[26000:35000],noniid_y[26000:35000]),\n",
    "    Client(7,noniid_x[35000:42000],noniid_y[35000:42000]),\n",
    "    Client(8,noniid_x[42000:48000],noniid_y[42000:48000]),\n",
    "    Client(9,noniid_x[48000:54000],noniid_y[48000:54000]),\n",
    "    Client(10,noniid_x[54000:],noniid_y[54000:]),\n",
    "]"
   ]
  },
  {
   "cell_type": "markdown",
   "metadata": {},
   "source": [
    "创建控制类，持有所有客户端的列表。\n",
    "\n",
    "和客户端之间按轮进行通信。每轮的工作如下：\n",
    "\n",
    "- 随机从所有客户端中选择5个，下发当前global的w和b\n",
    "- 命令客户端进行若干论FP和BP（FedAvg）\n",
    "- 收集各个客户端更新的w和b梯度矩阵，聚合并更新global w和b\n",
    "- 聚合和更新完成后，开启下一轮"
   ]
  },
  {
   "cell_type": "code",
   "execution_count": 17,
   "metadata": {},
   "outputs": [
    {
     "name": "stdout",
     "output_type": "stream",
     "text": [
      "Client5,iter0 finished\n",
      "[[-0.03205573]\n",
      " [-0.11342398]\n",
      " [-0.01934663]\n",
      " [-0.03126229]\n",
      " [ 0.01452318]\n",
      " [-0.03880013]\n",
      " [ 0.21150169]\n",
      " [ 0.21150169]\n",
      " [ 0.04538854]\n",
      " [ 0.        ]\n",
      " [ 0.        ]\n",
      " [-0.0505    ]] 0.099\n"
     ]
    }
   ],
   "source": [
    "class Coordinator:\n",
    "    def __init__(self,clients,shape):\n",
    "        self.clients = clients\n",
    "        self.global_w = np.zeros(shape=(shape[0],1))\n",
    "        self.global_b = 0\n",
    "        self.lr = 0.01\n",
    "        \n",
    "    def ProcessRound(self,clientsNeeded,localIter,showDetails=False):\n",
    "        selected_clients = random.sample(self.clients,clientsNeeded)\n",
    "        grads = [x.RunOptimization(self.global_w,self.global_b,localIter,self.lr,showDetails) for x in selected_clients]\n",
    "        grad_w = [x[0] for x in grads]      \n",
    "        grad_b = [x[1] for x in grads]\n",
    "        aggregated_dw = np.zeros(shape=(self.global_w.shape[0],1))\n",
    "        aggregated_db = 0\n",
    "        \n",
    "        for i in range(clientsNeeded):\n",
    "            aggregated_dw+=grad_w[i]\n",
    "            aggregated_db+=grad_b[i]\n",
    "        aggregated_dw/=clientsNeeded\n",
    "        aggregated_db/=clientsNeeded\n",
    "        self.global_w-=aggregated_dw*self.lr\n",
    "        self.global_b-=aggregated_db*self.lr\n",
    "    \n",
    "    def FedAvg(self,rounds):\n",
    "        for i in range(rounds):\n",
    "            self.ProcessRound(5,5,False)\n",
    "        \n",
    "sample_data = np.zeros(shape=(12,1))\n",
    "coordinator = Coordinator(clients,sample_data.shape)\n",
    "coordinator.ProcessRound(1,1,True)\n",
    "coordinator.FedAvg(200)"
   ]
  },
  {
   "cell_type": "code",
   "execution_count": 18,
   "metadata": {},
   "outputs": [
    {
     "data": {
      "text/plain": [
       "0.8002628984554716"
      ]
     },
     "execution_count": 18,
     "metadata": {},
     "output_type": "execute_result"
    }
   ],
   "source": [
    "pred_probs = Predict(coordinator.global_w,coordinator.global_b,X_val.T)\n",
    "pred_labels = np.where(pred_probs>0.5,1,0)\n",
    "diff = Y_val.values-pred_labels[0]\n",
    "acc = 1-np.sum(np.abs(diff))/len(diff)\n",
    "acc"
   ]
  },
  {
   "cell_type": "code",
   "execution_count": 19,
   "metadata": {},
   "outputs": [
    {
     "data": {
      "text/plain": [
       "array([[ 0.82890803],\n",
       "       [ 1.04614959],\n",
       "       [ 0.19002162],\n",
       "       [-0.15537406],\n",
       "       [-0.1233623 ],\n",
       "       [-0.06161777],\n",
       "       [-0.42049912],\n",
       "       [-0.42049912],\n",
       "       [-0.1004854 ],\n",
       "       [ 0.44917893],\n",
       "       [ 0.01854208],\n",
       "       [ 0.62457012]])"
      ]
     },
     "execution_count": 19,
     "metadata": {},
     "output_type": "execute_result"
    }
   ],
   "source": [
    "coordinator.global_w"
   ]
  },
  {
   "cell_type": "code",
   "execution_count": 20,
   "metadata": {},
   "outputs": [
    {
     "data": {
      "text/plain": [
       "[<matplotlib.lines.Line2D at 0x1f88ae2bd30>]"
      ]
     },
     "execution_count": 20,
     "metadata": {},
     "output_type": "execute_result"
    },
    {
     "data": {
      "image/png": "[encoded data removed]",
      "text/plain": [
       "<Figure size 432x288 with 1 Axes>"
      ]
     },
     "metadata": {
      "needs_background": "light"
     },
     "output_type": "display_data"
    }
   ],
   "source": [
    "plt.plot(coordinator.clients[1].losses)"
   ]
  },
  {
   "cell_type": "code",
   "execution_count": 21,
   "metadata": {},
   "outputs": [
    {
     "data": {
      "text/plain": [
       "[<matplotlib.lines.Line2D at 0x1f88ae94240>]"
      ]
     },
     "execution_count": 21,
     "metadata": {},
     "output_type": "execute_result"
    },
    {
     "data": {
      "image/png": "[encoded data removed]",
      "text/plain": [
       "<Figure size 432x288 with 1 Axes>"
      ]
     },
     "metadata": {
      "needs_background": "light"
     },
     "output_type": "display_data"
    }
   ],
   "source": [
    "plt.plot(coordinator.clients[4].losses)"
   ]
  }
 ],
 "metadata": {
  "kernelspec": {
   "display_name": "Python 3",
   "language": "python",
   "name": "python3"
  },
  "language_info": {
   "codemirror_mode": {
    "name": "ipython",
    "version": 3
   },
   "file_extension": ".py",
   "mimetype": "text/x-python",
   "name": "python",
   "nbconvert_exporter": "python",
   "pygments_lexer": "ipython3",
   "version": "3.7.1"
  }
 },
 "nbformat": 4,
 "nbformat_minor": 4
}
